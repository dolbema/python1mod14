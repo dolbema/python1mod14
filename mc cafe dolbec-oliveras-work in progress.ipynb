{
 "cells": [
  {
   "cell_type": "code",
   "execution_count": null,
   "id": "38bdddc0-b0b5-4be1-8a97-5bc3f5e0421d",
   "metadata": {},
   "outputs": [],
   "source": [
    "#Your instructors love coffee so much that they decided to open a cafe! Of course, we will need the help of our students to develop the ordering app that the customers can use.\n",
    "\n",
    "#On the cafe menu, there are three categories for the items we sell - coffee, tea, and pastries.\n",
    "\n",
    "#Coffee\n",
    "#Espresso - $1.50\n",
    "#Americano - $2.00\n",
    "#Caffe latte - $2.25\n",
    "#Mocha - $2.25\n",
    "#Cappucino - $2.50\n",
    "#Macchiato - $2.50\n",
    "##Tea\n",
    "#White tea - $1.50\n",
    "#Green tea - $2.00\n",
    "#Oolong tea - $2.25\n",
    "#Black tea - $2.25\n",
    "#Earl grey - $2.50\n",
    "#Matcha - $2.50\n",
    "#Pastries\n",
    "#Croissant - $5.50\n",
    "#Cinnamon roll - $4.50\n",
    "#Banana bread - $4.25\n",
    "#Pumpkin bread - $3.75\n",
    "#Sticky bun - $4.25\n",
    "#Apple turnover - $3.75\n",
    "#When your program first starts, you must greet the customers by saying, \"Welcome to MC Cafe!\" Then ask the customer if they would like to see the menu. If yes, then display the menu items and prices.\n",
    "\n",
    "#Then ask the user if they would like to order. If yes, then prompt the customer to enter an item and the quantity that they want. After they input an item, then ask them if they would like to order another item.\n",
    "\n",
    "#Once your customers are finished with the order input, then display an order receipt that lists the items that they ordered and the quantity. Then at the bottom of the receipt, display the subtotal (the amount of the item before tax), the amount in sales tax (our business is in Maryland, so state tax is 6%), and finally their grand total (subtotal plus sales tax).\n",
    "\n",
    "#At the end of their transaction, display a message to our customers saying, \"Thank you for visiting MC Cafe!\"\n",
    "\n",
    "#BONUS: Add a feature that tells a customer when an item they attempted to order is not on the menu.\n",
    "\n"
   ]
  },
  {
   "cell_type": "code",
   "execution_count": 82,
   "id": "5281379d-9fdd-42f9-b689-e94067fb721a",
   "metadata": {},
   "outputs": [],
   "source": [
    "#build menu\n",
    "\n",
    "##coffee_menu = {\"Espresso\" : \"$1.50\", \"Americano\" : \"$2.00\", \"Caffe latte\" : \"$2.25\", \"Mocha\" : \"$2.25\", \"Cappucino\" : \"$2.50\", \"Macchiato\" : \"$2.50\"}\n",
    "##tea_menu= {\"White tea\" : \"$1.50\", \"Green tea\" : \"$2.00\", \"Oolong tea\" : \"$2.25\", \"Black tea\" : \"$2.25\", \"Earl grey\" : \"$2.50\", \"Matcha\" : \"2.50\"}\n",
    "##pastrie_menu = {\"Croissant\" : \"$5.50\", \"Cinnamon roll\" : \"$4.50\", \"Banana bread\" : \"$4.25\", \"Pumpkin bread\" : \"$3.75\", \"Sticky bun\" : \"$4.25\", \"Apple turnover\" : \"$3.75\"}\n",
    "\n",
    "coffee = {\"Espresso\" : 1.50, \"Americano\" : 2.00, \"Caffe latte\" : 2.25, \"Mocha\" : 2.25, \"Cappucino\" : 2.50, \"Macchiato\" : 2.50}\n",
    "tea = {\"White tea\" : 1.50, \"Green tea\" : 2.00, \"Oolong tea\" : 2.25, \"Black tea\" : 2.25, \"Earl grey\" : 2.50, \"Matcha\" : 2.50}\n",
    "pastrie = {\"Croissant\" : 5.50, \"Cinnamon roll\" : 4.50, \"Banana bread\" : 4.25, \"Pumpkin bread\" : 3.75, \"Sticky bun\" : 4.25, \"Apple turnover\" : 3.75}\n",
    "complete_menu = { \"c\": coffee, \"t\": tea, \"p\": pastrie}\n"
   ]
  },
  {
   "cell_type": "code",
   "execution_count": 94,
   "id": "0e9141ec-d962-418a-95ba-d8866b29aeb6",
   "metadata": {},
   "outputs": [],
   "source": [
    "#display menu function\n",
    "\n",
    "def display_func():\n",
    "    print(coffee)\n",
    "    print(tea)\n",
    "    print(pastrie)\n",
    "    print(complete_menu)\n",
    "    "
   ]
  },
  {
   "cell_type": "code",
   "execution_count": 95,
   "id": "2b77e288-ce70-4714-8f93-4b9e315252e8",
   "metadata": {},
   "outputs": [
    {
     "name": "stdout",
     "output_type": "stream",
     "text": [
      "Welcome to MC Cafe!\n"
     ]
    },
    {
     "name": "stdin",
     "output_type": "stream",
     "text": [
      "Would you like to see the menu?, please enter 'y' or 'n': y\n"
     ]
    },
    {
     "name": "stdout",
     "output_type": "stream",
     "text": [
      "{'Espresso': 1.5, 'Americano': 2.0, 'Caffe latte': 2.25, 'Mocha': 2.25, 'Cappucino': 2.5, 'Macchiato': 2.5}\n",
      "{'White tea': 1.5, 'Green tea': 2.0, 'Oolong tea': 2.25, 'Black tea': 2.25, 'Earl grey': 2.5, 'Matcha': 2.5}\n",
      "{'Croissant': 5.5, 'Cinnamon roll': 4.5, 'Banana bread': 4.25, 'Pumpkin bread': 3.75, 'Sticky bun': 4.25, 'Apple turnover': 3.75}\n",
      "{'c': {'Espresso': 1.5, 'Americano': 2.0, 'Caffe latte': 2.25, 'Mocha': 2.25, 'Cappucino': 2.5, 'Macchiato': 2.5}, 't': {'White tea': 1.5, 'Green tea': 2.0, 'Oolong tea': 2.25, 'Black tea': 2.25, 'Earl grey': 2.5, 'Matcha': 2.5}, 'p': {'Croissant': 5.5, 'Cinnamon roll': 4.5, 'Banana bread': 4.25, 'Pumpkin bread': 3.75, 'Sticky bun': 4.25, 'Apple turnover': 3.75}}\n"
     ]
    }
   ],
   "source": [
    "# greet the customers by saying, \"Welcome to MC Cafe!\" Then ask the customer if they would like to see the menu. \n",
    "print(\"Welcome to MC Cafe!\")\n",
    "response1 = input(\"Would you like to see the menu?, please enter 'y' or 'n':\") #If yes, then display the menu items and prices using display menu function\n",
    "if response1 == \"y\" :\n",
    "    display_func() \n",
    "else :\n",
    "    print(\"No problem, stop by another day for a delicous treat :)\" )"
   ]
  },
  {
   "cell_type": "code",
   "execution_count": 97,
   "id": "97293b1f-6996-4347-92da-8614debe8574",
   "metadata": {},
   "outputs": [
    {
     "name": "stdin",
     "output_type": "stream",
     "text": [
      "Enter the number of items you would like to order:  2\n",
      "Please accurately type the name of the item from our menu: 1:  Croissant\n"
     ]
    },
    {
     "name": "stdout",
     "output_type": "stream",
     "text": [
      "i'm here\n",
      "c - $ {'Espresso': 1.5, 'Americano': 2.0, 'Caffe latte': 2.25, 'Mocha': 2.25, 'Cappucino': 2.5, 'Macchiato': 2.5}\n",
      "t - $ {'White tea': 1.5, 'Green tea': 2.0, 'Oolong tea': 2.25, 'Black tea': 2.25, 'Earl grey': 2.5, 'Matcha': 2.5}\n",
      "p - $ {'Croissant': 5.5, 'Cinnamon roll': 4.5, 'Banana bread': 4.25, 'Pumpkin bread': 3.75, 'Sticky bun': 4.25, 'Apple turnover': 3.75}\n",
      "p\n",
      "Unkown\n",
      "{'name_item': 'Unkown'}\n"
     ]
    }
   ],
   "source": [
    "##c_list = [] # initializing list of customer's order\n",
    "\n",
    "##response2 = input(\"Would you like to order, please enter 'y' or 'n':\")\n",
    "\n",
    "##if response2 == \"y\":\n",
    "    ##c_list.append(input(\"Please accurately type the name of the item from our menu:\"))\n",
    "    ##print(c_list)\n",
    "\n",
    "##else : \n",
    "    ##print(\"i understand, no need to order\")\n",
    "\n",
    "customer_order = {} # maybe create a customer dictionary not a list\n",
    "\n",
    "num_items = int(input(\"Enter the number of items you would like to order: \")) # request number of items to be ordered\n",
    " \n",
    "\n",
    "for i in range(num_items): # based on number of items to be ordered from customer input run a loop requested the name of each item\n",
    "    \n",
    "    name_item = input(f\"Please accurately type the name of the item from our menu: {i+1}: \")\n",
    "    print(\"i'm here\")\n",
    "    #customer_order[name_item] = input(f\"Please accurately type the name of the item from our menu: {i+1}: \")\n",
    "    #print(\"this is the customer's order:\", customer_order)\n",
    "    \n",
    "    #item_cost = complete_menu.get(name_item)\n",
    "    \n",
    "    customer_order[\"name_item\"] = item_cost\n",
    "\n",
    "    for name_item in complete_menu.keys():\n",
    "        print(name_item, \"- $\", complete_menu[name_item])\n",
    "    \n",
    "    #if \"name_item\" in coffee:\n",
    "        #item_cost = coffee[\"name_item\"] \n",
    "    \n",
    "    #elif \"name_item\" in tea:\n",
    "        #item_cost = tea[\"name_item\"] \n",
    "\n",
    "    #elif \"name_item\" in pastrie:\n",
    "        #item_cost = pastrie[\"name_item\"]\n",
    "        \n",
    "    #else : \n",
    "        #item_cost = \"Unknown\"\n",
    "        \n",
    "    print(name_item)\n",
    "    print(item_cost)\n",
    "    print(customer_order)\n",
    "\n",
    "    break\n",
    "    # checking if customer item is in all three menus...ISSUE checking all three menus\n",
    "    if name_item in coffee or name_item in tea or name_item in pastrie : \n",
    "    #if name_item in complete_menu : \n",
    "        \n",
    "        print(\"i searched the menu\") #checking if breaks in search option\n",
    "        \n",
    "        #customer_order = coffee_menu[name_item] or tea_menu[name_item] or pastrie_menu[name_item]# if customer order is in any of the menus then we look up the cost of the \n",
    "        item_cost = pastrie_menu[name_item] \n",
    "        ###value = pairs.get(3)\n",
    "        ###print(f\"3:\\t{value}\")\n",
    "        print({item_cost})\n",
    "     \n",
    "        \n",
    "        #print(item_cost)\n",
    "        print(pastrie_menu)\n",
    "        print(customer_order)\n",
    "    \n",
    "    else :\n",
    "        name_item = \"Unknown\"\n",
    "    \n",
    " \n",
    "\n",
    "#cost_item = int(input(f\"Enter the test score for {name}: \"))\n",
    "#customer_order[name_item] = float(cost_item, .2f)"
   ]
  },
  {
   "cell_type": "code",
   "execution_count": null,
   "id": "db86763c-50fa-406d-90d1-ac06df7a3d7f",
   "metadata": {},
   "outputs": [],
   "source": [
    "\n",
    "#Once your customers are finished with the order input, then display an order receipt that lists the items that they ordered and the quantity. \n",
    "\n",
    "\n",
    "\n"
   ]
  },
  {
   "cell_type": "code",
   "execution_count": 1,
   "id": "a041657c-2bac-43b7-b8ef-400c5aef7cc2",
   "metadata": {},
   "outputs": [],
   "source": [
    "#Quality control: make sure item from order input is in menu nested list"
   ]
  },
  {
   "cell_type": "code",
   "execution_count": null,
   "id": "72a090b3-55ee-4936-b01b-677d4c1b218e",
   "metadata": {},
   "outputs": [],
   "source": [
    "#ask if they want to order another item; add item to order list.\n",
    "\n",
    "c_list.append(c_order)#adding additional item to customer's order list\n",
    "c_list.count()\n",
    "print(f\"c_list={c_list} length={len(c_list)}\")#printing the list of the customer's order and number of items in the list"
   ]
  },
  {
   "cell_type": "code",
   "execution_count": null,
   "id": "efbebdc8-9487-40a1-bdd7-25261a107c4e",
   "metadata": {},
   "outputs": [],
   "source": [
    "#Then at the bottom of the receipt, display the subtotal (the amount of the item before tax), the amount in sales tax (our business is in Maryland, so state tax is 6%), and finally their grand total (subtotal plus sales tax)."
   ]
  },
  {
   "cell_type": "code",
   "execution_count": null,
   "id": "732fe6f7-f81d-4905-82b5-954fc48cd3be",
   "metadata": {},
   "outputs": [],
   "source": [
    "#build receipt\n",
    "\n",
    "#display order list\n",
    "# name of item and quantity\n",
    "\n",
    "for item in c_list :\n",
    "    print(f\"I have {item}\")\n",
    "\n",
    " \n",
    "\n",
    "# for each item in order list\n",
    "#calculate subtotal\n",
    "\n",
    " \n",
    "#quantity of item * cost of item\n",
    "#display subtotal\n",
    "\n",
    "print(f\"${subtotal:,.2f}\")\n",
    "\n",
    "#calculate total\n",
    "#subtotal * 1.06 = total\n",
    "#display total\n",
    "\n",
    "rate = 1.06\n",
    "\n",
    "total = subtotal * rate\n",
    "\n",
    "print(f\"${total:,.2f}\")\n",
    "\n",
    "#at the end of the program, display a message to our customers saying, \"Thank you for visiting MC Cafe!\"\n",
    "\n",
    "print(\"Thank you for visiting MC Cafe!\")"
   ]
  }
 ],
 "metadata": {
  "kernelspec": {
   "display_name": "Python 3 (ipykernel)",
   "language": "python",
   "name": "python3"
  },
  "language_info": {
   "codemirror_mode": {
    "name": "ipython",
    "version": 3
   },
   "file_extension": ".py",
   "mimetype": "text/x-python",
   "name": "python",
   "nbconvert_exporter": "python",
   "pygments_lexer": "ipython3",
   "version": "3.11.7"
  }
 },
 "nbformat": 4,
 "nbformat_minor": 5
}
